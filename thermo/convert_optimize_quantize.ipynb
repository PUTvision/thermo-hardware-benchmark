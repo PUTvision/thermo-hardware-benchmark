{
 "cells": [
  {
   "cell_type": "code",
   "execution_count": 1,
   "id": "2370b7f2",
   "metadata": {},
   "outputs": [],
   "source": [
    "import os\n",
    "os.environ['TF_CPP_MIN_LOG_LEVEL'] = '3'\n",
    "from pathlib import Path\n",
    "\n",
    "import yaml\n",
    "import numpy as np\n",
    "import seaborn as sns\n",
    "import tensorflow as tf\n",
    "import matplotlib.pyplot as plt\n",
    "from tqdm import tqdm\n",
    "\n",
    "from models.unet import UNet\n",
    "from utils.model_utils import check_model_prediction, evaluate, tflite_inference\n",
    "from metrics import CountAccuracy, CountMAE, CountMeanRelativeAbsoluteError\n",
    "from data_generator.thermal_data_generator import ThermalDataset"
   ]
  },
  {
   "cell_type": "code",
   "execution_count": 2,
   "id": "1662e661",
   "metadata": {},
   "outputs": [],
   "source": [
    "MODEL_NAME = 'model'\n",
    "MODELS_DIR = './data/model'\n",
    "MODEL_DTYPE = 'fp32' # uint8, int8, fp16, fp32"
   ]
  },
  {
   "cell_type": "code",
   "execution_count": 3,
   "id": "0bcb4cfd",
   "metadata": {},
   "outputs": [],
   "source": [
    "with open('./configs/config.yaml', 'r') as stream:\n",
    "    config = yaml.safe_load(stream)"
   ]
  },
  {
   "cell_type": "markdown",
   "id": "2bdc0dcf",
   "metadata": {},
   "source": [
    "## Test data generator"
   ]
  },
  {
   "cell_type": "code",
   "execution_count": 4,
   "id": "b7700921",
   "metadata": {},
   "outputs": [],
   "source": [
    "test_data_gen = ThermalDataset(\n",
    "    data_path=Path('./data'), \n",
    "    sequences_names=config['dataset'][\"test_dirs\"],\n",
    "    person_point_weight=config['dataset']['sum_of_values_for_one_person'], \n",
    "    batch_size=1\n",
    ")"
   ]
  },
  {
   "cell_type": "markdown",
   "id": "19fb04ae",
   "metadata": {},
   "source": [
    "## Test single frame"
   ]
  },
  {
   "cell_type": "code",
   "execution_count": 5,
   "id": "1bc79f10",
   "metadata": {},
   "outputs": [],
   "source": [
    "input_frame = test_data_gen[0][0]"
   ]
  },
  {
   "cell_type": "markdown",
   "id": "8673280c",
   "metadata": {},
   "source": [
    "# TF Keras model"
   ]
  },
  {
   "cell_type": "code",
   "execution_count": 6,
   "id": "4215ed1c",
   "metadata": {},
   "outputs": [],
   "source": [
    "model = tf.keras.models.load_model(f'{MODELS_DIR}/{MODEL_NAME}.h5', compile=False)"
   ]
  },
  {
   "cell_type": "code",
   "execution_count": 7,
   "id": "838256db",
   "metadata": {},
   "outputs": [
    {
     "name": "stdout",
     "output_type": "stream",
     "text": [
      "4.66686571932814\n"
     ]
    },
    {
     "data": {
      "image/png": "[encoded data removed]",
      "text/plain": [
       "<Figure size 720x288 with 2 Axes>"
      ]
     },
     "metadata": {
      "needs_background": "light"
     },
     "output_type": "display_data"
    }
   ],
   "source": [
    "output_frame = model.predict(input_frame, verbose=0)\n",
    "\n",
    "print(np.sum(output_frame) / config['dataset'][\"sum_of_values_for_one_person\"])\n",
    "\n",
    "fig, ax = plt.subplots(1,2, figsize=(10,4));\n",
    "ax[0].imshow(input_frame.reshape(config['dataset'][\"IR_camera_resolution\"]));\n",
    "ax[1].imshow(output_frame[0][..., 0]);"
   ]
  },
  {
   "cell_type": "code",
   "execution_count": 8,
   "id": "28fcdc55",
   "metadata": {},
   "outputs": [
    {
     "name": "stdout",
     "output_type": "stream",
     "text": [
      "Number of tested frames: 2347\n",
      "Average inference time: 0.031761\n",
      "Average FPS: 31.4851\n",
      "Model Accuracy = 0.9795483596080102\n",
      "Model F1 score = 0.9798091302816225\n",
      "Predicted:\n",
      "   165 frames with 0 persons\n",
      "   83 frames with 1 persons\n",
      "   220 frames with 2 persons\n",
      "   333 frames with 3 persons\n",
      "   1229 frames with 4 persons\n",
      "   316 frames with 5 persons\n",
      "   1 frames with 6 persons\n",
      "Predicted correctly:\n",
      "   162 frames with 0 persons\n",
      "   78 frames with 1 persons\n",
      "   205 frames with 2 persons\n",
      "   328 frames with 3 persons\n",
      "   1220 frames with 4 persons\n",
      "   306 frames with 5 persons\n",
      "mae: 0.10517487009357382\n",
      "mse: 0.03238200663388619\n",
      "mae_rounded: 0.020877716233489562\n",
      "mse_rounded: 0.021729867916489135\n",
      "mrae: 0.007832694219571086\n"
     ]
    },
    {
     "data": {
      "image/png": "[encoded data removed]",
      "text/plain": [
       "<Figure size 360x288 with 2 Axes>"
      ]
     },
     "metadata": {
      "needs_background": "light"
     },
     "output_type": "display_data"
    }
   ],
   "source": [
    "test_acc, test_f1, test_cm = evaluate(f'{MODELS_DIR}/{MODEL_NAME}.h5', 'keras', test_data_gen, config)\n",
    "\n",
    "plt.figure(figsize=(5,4));\n",
    "sns.heatmap(\n",
    "    test_cm, annot=True, cmap=\"Blues\", fmt='0.0f', \n",
    "    xticklabels=np.arange(config['dataset'][\"max_people_count\"]+1), \n",
    "    yticklabels=np.arange(config['dataset'][\"max_people_count\"]+1)\n",
    ");\n",
    "plt.xlabel('Labels');\n",
    "plt.ylabel('Predictions');"
   ]
  },
  {
   "cell_type": "markdown",
   "id": "b3e5c735",
   "metadata": {},
   "source": [
    "## TF Lite conversion"
   ]
  },
  {
   "cell_type": "code",
   "execution_count": 9,
   "id": "354eec2d",
   "metadata": {},
   "outputs": [],
   "source": [
    "def representative_dataset():\n",
    "    repr_data_gen = ThermalDataset(\n",
    "        data_path=Path('./data'), \n",
    "        sequences_names=config['dataset'][\"training_dirs\"],\n",
    "        person_point_weight=config['dataset']['sum_of_values_for_one_person'], \n",
    "        batch_size=1\n",
    "    )\n",
    "    \n",
    "    frames_num = repr_data_gen.__len__()\n",
    "    \n",
    "    for i in tqdm(range(frames_num)):\n",
    "        data = repr_data_gen[i][0]\n",
    "        data = data.astype(np.float32)\n",
    "        yield [data]"
   ]
  },
  {
   "cell_type": "code",
   "execution_count": 10,
   "id": "7a6dceb3",
   "metadata": {
    "scrolled": false
   },
   "outputs": [
    {
     "name": "stdout",
     "output_type": "stream",
     "text": [
      "INFO:tensorflow:Assets written to: /tmp/tmpvjflfgy4/assets\n"
     ]
    }
   ],
   "source": [
    "# Convert the model.\n",
    "converter = tf.lite.TFLiteConverter.from_keras_model(model)\n",
    "if MODEL_DTYPE == 'fp16':\n",
    "    converter.optimizations = [tf.lite.Optimize.DEFAULT]\n",
    "    converter.target_spec.supported_types = [tf.float16]\n",
    "elif MODEL_DTYPE == 'int8':\n",
    "    converter.optimizations = [tf.lite.Optimize.DEFAULT]\n",
    "    converter.representative_dataset = representative_dataset\n",
    "    converter.target_spec.supported_ops = [tf.lite.OpsSet.TFLITE_BUILTINS_INT8]\n",
    "    converter.target_spec.supported_types = [tf.int8]\n",
    "    converter.inference_input_type = tf.int8\n",
    "    converter.inference_output_type = tf.int8\n",
    "elif MODEL_DTYPE == 'uint8':\n",
    "    converter.optimizations = [tf.lite.Optimize.DEFAULT]\n",
    "    converter.representative_dataset = representative_dataset\n",
    "    converter.target_spec.supported_ops = [tf.lite.OpsSet.TFLITE_BUILTINS_INT8]\n",
    "    converter.target_spec.supported_types = [tf.int8]\n",
    "    converter.inference_input_type = tf.uint8\n",
    "    converter.inference_output_type = tf.uint8\n",
    "tflite_model = converter.convert()\n",
    "\n",
    "# Save the model.\n",
    "with open(f'{MODELS_DIR}/{MODEL_NAME}_{MODEL_DTYPE}.tflite', 'wb') as f:\n",
    "    f.write(tflite_model)"
   ]
  },
  {
   "cell_type": "code",
   "execution_count": 11,
   "id": "0c5e4c1c",
   "metadata": {},
   "outputs": [
    {
     "name": "stdout",
     "output_type": "stream",
     "text": [
      "4.66686571932814\n"
     ]
    },
    {
     "data": {
      "image/png": "[encoded data removed]",
      "text/plain": [
       "<Figure size 720x288 with 2 Axes>"
      ]
     },
     "metadata": {
      "needs_background": "light"
     },
     "output_type": "display_data"
    }
   ],
   "source": [
    "output_frame = tflite_inference(f'{MODELS_DIR}/{MODEL_NAME}_{MODEL_DTYPE}.tflite', input_frame)\n",
    "\n",
    "print(np.sum(output_frame[0]) / config['dataset'][\"sum_of_values_for_one_person\"])\n",
    "\n",
    "fig, ax = plt.subplots(1,2, figsize=(10,4));\n",
    "ax[0].imshow(input_frame[0,:,:,0]);\n",
    "ax[1].imshow(output_frame[0][0,:,:,0]);"
   ]
  },
  {
   "cell_type": "code",
   "execution_count": 12,
   "id": "7e108ccc",
   "metadata": {},
   "outputs": [
    {
     "name": "stdout",
     "output_type": "stream",
     "text": [
      "Number of tested frames: 2347\n",
      "Average inference time: 0.000773\n",
      "Average FPS: 1292.9767\n",
      "Model Accuracy = 0.9795483596080102\n",
      "Model F1 score = 0.9798091302816225\n",
      "Predicted:\n",
      "   165 frames with 0 persons\n",
      "   83 frames with 1 persons\n",
      "   220 frames with 2 persons\n",
      "   333 frames with 3 persons\n",
      "   1229 frames with 4 persons\n",
      "   316 frames with 5 persons\n",
      "   1 frames with 6 persons\n",
      "Predicted correctly:\n",
      "   162 frames with 0 persons\n",
      "   78 frames with 1 persons\n",
      "   205 frames with 2 persons\n",
      "   328 frames with 3 persons\n",
      "   1220 frames with 4 persons\n",
      "   306 frames with 5 persons\n",
      "mae: 0.10517487267117653\n",
      "mse: 0.032382006621022585\n",
      "mae_rounded: 0.020877716233489562\n",
      "mse_rounded: 0.021729867916489135\n",
      "mrae: 0.007832694219571086\n"
     ]
    },
    {
     "data": {
      "image/png": "[encoded data removed]",
      "text/plain": [
       "<Figure size 360x288 with 2 Axes>"
      ]
     },
     "metadata": {
      "needs_background": "light"
     },
     "output_type": "display_data"
    }
   ],
   "source": [
    "test_acc, test_f1, test_cm = evaluate(\n",
    "    f'{MODELS_DIR}/{MODEL_NAME}_{MODEL_DTYPE}.tflite', 'tflite', test_data_gen, config)\n",
    "\n",
    "plt.figure(figsize=(5,4));\n",
    "sns.heatmap(\n",
    "    test_cm, annot=True, cmap=\"Blues\", fmt='0.0f', \n",
    "    xticklabels=np.arange(config['dataset'][\"max_people_count\"]+1), \n",
    "    yticklabels=np.arange(config['dataset'][\"max_people_count\"]+1)\n",
    ");\n",
    "plt.xlabel('Labels');\n",
    "plt.ylabel('Predictions');"
   ]
  },
  {
   "cell_type": "markdown",
   "id": "7a7fc9aa",
   "metadata": {},
   "source": [
    "## Edge TPU\n",
    "\n",
    "- [Edge TPU Compiler](https://coral.ai/docs/edgetpu/compiler/)"
   ]
  },
  {
   "cell_type": "code",
   "execution_count": 13,
   "id": "79fd91cd",
   "metadata": {},
   "outputs": [
    {
     "name": "stdout",
     "output_type": "stream",
     "text": [
      "Edge TPU Compiler version 16.0.384591198\r\n",
      "Started a compilation timeout timer of 180 seconds.\r\n",
      "\r\n",
      "Model compiled successfully in 1 ms.\r\n",
      "\r\n",
      "Input model: ./data/model/model_fp32.tflite\r\n",
      "Input size: 187.26KiB\r\n",
      "Output model: model_fp32_edgetpu.tflite\r\n",
      "Output size: 186.26KiB\r\n",
      "On-chip memory used for caching model parameters: 0.00B\r\n",
      "On-chip memory remaining for caching model parameters: 0.00B\r\n",
      "Off-chip memory used for streaming uncached model parameters: 0.00B\r\n",
      "Number of Edge TPU subgraphs: 0\r\n",
      "Total number of operations: 13\r\n",
      "Operation log: model_fp32_edgetpu.log\r\n",
      "\r\n",
      "Model successfully compiled but not all operations are supported by the Edge TPU. A percentage of the model will instead run on the CPU, which is slower. If possible, consider updating your model to use only operations supported by the Edge TPU. For details, visit g.co/coral/model-reqs.\r\n",
      "Number of operations that will run on Edge TPU: 0\r\n",
      "Number of operations that will run on CPU: 13\r\n",
      "\r\n",
      "Operator                       Count      Status\r\n",
      "\r\n",
      "RESIZE_NEAREST_NEIGHBOR        1          Operation is working on an unsupported data type\r\n",
      "MAX_POOL_2D                    1          Operation is working on an unsupported data type\r\n",
      "CONCATENATION                  1          Operation is working on an unsupported data type\r\n",
      "CONV_2D                        10         Operation is working on an unsupported data type\r\n",
      "Compilation child process completed within timeout period.\r\n",
      "Compilation succeeded! \r\n"
     ]
    }
   ],
   "source": [
    "!edgetpu_compiler -s {MODELS_DIR}/{MODEL_NAME}_{MODEL_DTYPE}.tflite -o {MODELS_DIR}"
   ]
  },
  {
   "cell_type": "markdown",
   "id": "1301c750",
   "metadata": {},
   "source": [
    "## TF Lite Micro conversion\n",
    "\n",
    "- [TF Lite Micro build and convert models](https://www.tensorflow.org/lite/microcontrollers/build_convert)"
   ]
  },
  {
   "cell_type": "code",
   "execution_count": 14,
   "id": "c0f367f2",
   "metadata": {},
   "outputs": [],
   "source": [
    "!xxd -i {MODELS_DIR}/{MODEL_NAME}_{MODEL_DTYPE}.tflite > {MODELS_DIR}/{MODEL_NAME}_{MODEL_DTYPE}.cc"
   ]
  },
  {
   "cell_type": "code",
   "execution_count": 15,
   "id": "c59be4aa",
   "metadata": {},
   "outputs": [],
   "source": [
    "!sed -i 's/'{MODELS_DIR.replace('.', '_').replace('/','_')}'_'{MODEL_NAME}'_'{MODEL_DTYPE}'_tflite/g_model/g' {MODELS_DIR}/{MODEL_NAME}_{MODEL_DTYPE}.cc"
   ]
  },
  {
   "cell_type": "code",
   "execution_count": 16,
   "id": "aa5f1430",
   "metadata": {},
   "outputs": [
    {
     "name": "stdout",
     "output_type": "stream",
     "text": [
      "  0x34, 0x00, 0x00, 0x00, 0x20, 0x00, 0x00, 0x00, 0x04, 0x00, 0x00, 0x00,\r\n",
      "  0xcc, 0xff, 0xff, 0xff, 0x02, 0x00, 0x00, 0x00, 0x00, 0x00, 0x00, 0x02,\r\n",
      "  0x0c, 0x00, 0x10, 0x00, 0x0f, 0x00, 0x00, 0x00, 0x08, 0x00, 0x04, 0x00,\r\n",
      "  0x0c, 0x00, 0x00, 0x00, 0x61, 0x00, 0x00, 0x00, 0x03, 0x00, 0x00, 0x00,\r\n",
      "  0x00, 0x00, 0x00, 0x61, 0xf4, 0xff, 0xff, 0xff, 0x11, 0x00, 0x00, 0x00,\r\n",
      "  0x00, 0x00, 0x00, 0x11, 0x0c, 0x00, 0x0c, 0x00, 0x0b, 0x00, 0x00, 0x00,\r\n",
      "  0x00, 0x00, 0x04, 0x00, 0x0c, 0x00, 0x00, 0x00, 0x03, 0x00, 0x00, 0x00,\r\n",
      "  0x00, 0x00, 0x00, 0x03\r\n",
      "};\r\n",
      "unsigned int g_model_len = 191752;\r\n"
     ]
    }
   ],
   "source": [
    "!cat {MODELS_DIR}/{MODEL_NAME}_{MODEL_DTYPE}.cc | tail"
   ]
  },
  {
   "cell_type": "markdown",
   "id": "205cbbe8",
   "metadata": {},
   "source": [
    "## Convert to ONNX\n",
    "\n",
    "- [tf2onnx](https://github.com/onnx/tensorflow-onnx) package to convert from tensorflow to ONNX format"
   ]
  },
  {
   "cell_type": "code",
   "execution_count": 17,
   "id": "fad2f20d",
   "metadata": {},
   "outputs": [
    {
     "name": "stdout",
     "output_type": "stream",
     "text": [
      "/home/mateusz/miniconda3/envs/thermo/lib/python3.9/runpy.py:127: RuntimeWarning: 'tf2onnx.convert' found in sys.modules after import of package 'tf2onnx', but prior to execution of 'tf2onnx.convert'; this may result in unpredictable behaviour\n",
      "  warn(RuntimeWarning(msg))\n",
      "2022-12-08 15:56:58,559 - INFO - Using tensorflow=2.7.0, onnx=1.12.0, tf2onnx=1.13.0/2c1db5\n",
      "2022-12-08 15:56:58,559 - INFO - Using opset <onnx, 13>\n",
      "2022-12-08 15:56:58,606 - INFO - Optimizing ONNX model\n",
      "2022-12-08 15:56:58,711 - INFO - After optimization: Cast -1 (1->0), Const +1 (25->26), Identity -1 (1->0), Reshape +2 (0->2), Transpose -44 (44->0)\n",
      "2022-12-08 15:56:58,714 - INFO - \n",
      "2022-12-08 15:56:58,714 - INFO - Successfully converted TensorFlow model ./data/model/model_fp32.tflite to ONNX\n",
      "2022-12-08 15:56:58,714 - INFO - Model inputs: ['serving_default_input_1:0']\n",
      "2022-12-08 15:56:58,714 - INFO - Model outputs: ['StatefulPartitionedCall:0']\n",
      "2022-12-08 15:56:58,714 - INFO - ONNX model is saved at ./data/model/model.onnx\n"
     ]
    }
   ],
   "source": [
    "!python -m tf2onnx.convert --tflite {MODELS_DIR}/{MODEL_NAME}_fp32.tflite --output {MODELS_DIR}/{MODEL_NAME}.onnx"
   ]
  },
  {
   "cell_type": "markdown",
   "id": "91939e99",
   "metadata": {},
   "source": [
    "## Convert to OpenVINO\n",
    "\n",
    "- [OpenVINO toolkit](https://www.intel.com/content/www/us/en/developer/tools/openvino-toolkit/overview.html) to optimize and convert ONNX model to OpenVINO format"
   ]
  },
  {
   "cell_type": "code",
   "execution_count": 18,
   "id": "7f91b772",
   "metadata": {},
   "outputs": [],
   "source": [
    "OpenVINO_PATH = '~/intel/openvino_2021'\n",
    "DATA_TYPE = 'FP32' # FP32 FP16"
   ]
  },
  {
   "cell_type": "code",
   "execution_count": 19,
   "id": "81ecc7df",
   "metadata": {},
   "outputs": [
    {
     "name": "stdout",
     "output_type": "stream",
     "text": [
      "[setupvars.sh] OpenVINO environment initialized\r\n"
     ]
    }
   ],
   "source": [
    "!source {OpenVINO_PATH}/bin/setupvars.sh"
   ]
  },
  {
   "cell_type": "code",
   "execution_count": 20,
   "id": "b04e6eed",
   "metadata": {},
   "outputs": [
    {
     "name": "stdout",
     "output_type": "stream",
     "text": [
      "Model Optimizer arguments:\n",
      "Common parameters:\n",
      "\t- Path to the Input Model: \t/home/mateusz/Research/thermo-hardware-benchmark/thermo/./data/model/model.onnx\n",
      "\t- Path for generated IR: \t/home/mateusz/Research/thermo-hardware-benchmark/thermo/./data/model\n",
      "\t- IR output name: \tmodel_FP32\n",
      "\t- Log level: \tERROR\n",
      "\t- Batch: \t1\n",
      "\t- Input layers: \tNot specified, inherited from the model\n",
      "\t- Output layers: \tNot specified, inherited from the model\n",
      "\t- Input shapes: \tNot specified, inherited from the model\n",
      "\t- Mean values: \tNot specified\n",
      "\t- Scale values: \tNot specified\n",
      "\t- Scale factor: \tNot specified\n",
      "\t- Precision of IR: \tFP32\n",
      "\t- Enable fusing: \tTrue\n",
      "\t- Enable grouped convolutions fusing: \tTrue\n",
      "\t- Move mean values to preprocess section: \tNone\n",
      "\t- Reverse input channels: \tFalse\n",
      "ONNX specific parameters:\n",
      "\t- Inference Engine found in: \t/home/mateusz/intel/openvino_2021.4.582/python/python3.9/openvino\n",
      "Inference Engine version: \t2021.4.0-3839-cd81789d294-releases/2021/4\n",
      "Model Optimizer version: \t2021.4.0-3839-cd81789d294-releases/2021/4\n",
      "/home/mateusz/intel/openvino_2021.4.582/deployment_tools/model_optimizer/mo/utils/versions_checker.py:170: DeprecationWarning: distutils Version classes are deprecated. Use packaging.version instead.\n",
      "  req_ver = LooseVersion(required_v)\n",
      "/home/mateusz/miniconda3/envs/thermo/lib/python3.9/site-packages/setuptools/_distutils/version.py:346: DeprecationWarning: distutils Version classes are deprecated. Use packaging.version instead.\n",
      "  other = LooseVersion(other)\n",
      "/home/mateusz/intel/openvino_2021.4.582/deployment_tools/model_optimizer/mo/utils/versions_checker.py:170: DeprecationWarning: distutils Version classes are deprecated. Use packaging.version instead.\n",
      "  req_ver = LooseVersion(required_v)\n",
      "/home/mateusz/miniconda3/envs/thermo/lib/python3.9/site-packages/setuptools/_distutils/version.py:346: DeprecationWarning: distutils Version classes are deprecated. Use packaging.version instead.\n",
      "  other = LooseVersion(other)\n",
      "[ WARNING ]  \n",
      "Detected not satisfied dependencies:\n",
      "\tnumpy: installed: 1.20.3, required: < 1.20\n",
      "\n",
      "Please install required versions of components or use install_prerequisites script\n",
      "/home/mateusz/intel/openvino_2021.4.582/deployment_tools/model_optimizer/install_prerequisites/install_prerequisites_onnx.sh\n",
      "Note that install_prerequisites scripts may install additional components.\n",
      "/home/mateusz/intel/openvino_2021.4.582/deployment_tools/model_optimizer/extensions/analysis/boolean_input.py:13: DeprecationWarning: `np.bool` is a deprecated alias for the builtin `bool`. To silence this warning, use `bool` by itself. Doing this will not modify any behavior and is safe. If you specifically wanted the numpy scalar type, use `np.bool_` here.\n",
      "Deprecated in NumPy 1.20; for more details and guidance: https://numpy.org/devdocs/release/1.20.0-notes.html#deprecations\n",
      "  nodes = graph.get_op_nodes(op='Parameter', data_type=np.bool)\n",
      "/home/mateusz/intel/openvino_2021.4.582/deployment_tools/model_optimizer/mo/front/common/partial_infer/concat.py:36: DeprecationWarning: `np.bool` is a deprecated alias for the builtin `bool`. To silence this warning, use `bool` by itself. Doing this will not modify any behavior and is safe. If you specifically wanted the numpy scalar type, use `np.bool_` here.\n",
      "Deprecated in NumPy 1.20; for more details and guidance: https://numpy.org/devdocs/release/1.20.0-notes.html#deprecations\n",
      "  mask = np.zeros_like(shape, dtype=np.bool)\n",
      "[ SUCCESS ] Generated IR version 10 model.\n",
      "[ SUCCESS ] XML file: /home/mateusz/Research/thermo-hardware-benchmark/thermo/data/model/model_FP32.xml\n",
      "[ SUCCESS ] BIN file: /home/mateusz/Research/thermo-hardware-benchmark/thermo/data/model/model_FP32.bin\n",
      "[ SUCCESS ] Total execution time: 2.82 seconds. \n",
      "[ SUCCESS ] Memory consumed: 85 MB. \n",
      "It's been a while, check for a new version of Intel(R) Distribution of OpenVINO(TM) toolkit here https://software.intel.com/content/www/us/en/develop/tools/openvino-toolkit/download.html?cid=other&source=prod&campid=ww_2021_bu_IOTG_OpenVINO-2021-4-LTS&content=upg_all&medium=organic or on the GitHub*\n"
     ]
    }
   ],
   "source": [
    "!python {OpenVINO_PATH}/deployment_tools/model_optimizer/mo.py \\\n",
    "    --input_model {MODELS_DIR}/{MODEL_NAME}.onnx \\\n",
    "    --model_name {MODEL_NAME}_{DATA_TYPE} \\\n",
    "    --output_dir {MODELS_DIR} \\\n",
    "    --data_type {DATA_TYPE} \\\n",
    "    --batch 1"
   ]
  }
 ],
 "metadata": {
  "kernelspec": {
   "display_name": "Python 3 (ipykernel)",
   "language": "python",
   "name": "python3"
  },
  "language_info": {
   "codemirror_mode": {
    "name": "ipython",
    "version": 3
   },
   "file_extension": ".py",
   "mimetype": "text/x-python",
   "name": "python",
   "nbconvert_exporter": "python",
   "pygments_lexer": "ipython3",
   "version": "3.9.0"
  }
 },
 "nbformat": 4,
 "nbformat_minor": 5
}
